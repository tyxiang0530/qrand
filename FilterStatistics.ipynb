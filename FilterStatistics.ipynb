{
 "cells": [
  {
   "cell_type": "code",
   "execution_count": 2,
   "metadata": {},
   "outputs": [],
   "source": [
    "import numpy as np\n",
    "import matplotlib.pyplot as plt\n",
    "import scipy.stats as sts\n",
    "import CleanData as CD"
   ]
  },
  {
   "cell_type": "code",
   "execution_count": 3,
   "metadata": {},
   "outputs": [],
   "source": [
    "data_dir = \"data\\\\filter_tests\\\\\""
   ]
  },
  {
   "attachments": {},
   "cell_type": "markdown",
   "metadata": {},
   "source": [
    "## LASER ON"
   ]
  },
  {
   "cell_type": "code",
   "execution_count": 23,
   "metadata": {},
   "outputs": [],
   "source": [
    "filterless = data_dir + \"3_4\\\\curr_filter\\\\filterless\"\n",
    "one_new_filter = data_dir + \"3_4\\\\curr_filter\\\\new_fiter_front_only\"\n",
    "curr_filter = data_dir + \"3_4\\\\with_curr_filter\"\n",
    "both_new_filter = data_dir + \"3_6\\\\new_filter_bothpoints\""
   ]
  },
  {
   "cell_type": "code",
   "execution_count": 28,
   "metadata": {},
   "outputs": [],
   "source": [
    "filterless_df, filterless_settings = CD.clean_csv(filterless)\n",
    "curr_filter_df, curr_filter_settings = CD.clean_csv(curr_filter)\n",
    "both_new_df, both_new_settings = CD.clean_csv(both_new_filter)"
   ]
  },
  {
   "cell_type": "code",
   "execution_count": 29,
   "metadata": {},
   "outputs": [],
   "source": [
    "filterless_ch1 = filterless_df['Ch 1']\n",
    "curr_filter_ch1 = curr_filter_df['Ch 1']\n",
    "both_new_ch1 = both_new_df['Ch 1']"
   ]
  },
  {
   "cell_type": "code",
   "execution_count": 30,
   "metadata": {},
   "outputs": [
    {
     "data": {
      "text/html": [
       "<div>\n",
       "<style scoped>\n",
       "    .dataframe tbody tr th:only-of-type {\n",
       "        vertical-align: middle;\n",
       "    }\n",
       "\n",
       "    .dataframe tbody tr th {\n",
       "        vertical-align: top;\n",
       "    }\n",
       "\n",
       "    .dataframe thead th {\n",
       "        text-align: right;\n",
       "    }\n",
       "</style>\n",
       "<table border=\"1\" class=\"dataframe\">\n",
       "  <thead>\n",
       "    <tr style=\"text-align: right;\">\n",
       "      <th></th>\n",
       "      <th>Entry number</th>\n",
       "      <th>Time</th>\n",
       "      <th>Ch 1</th>\n",
       "      <th>Ch 2</th>\n",
       "      <th>Ch 3</th>\n",
       "      <th>Ch 4</th>\n",
       "      <th>Ch 5</th>\n",
       "    </tr>\n",
       "  </thead>\n",
       "  <tbody>\n",
       "    <tr>\n",
       "      <th>0</th>\n",
       "      <td>0.00125</td>\n",
       "      <td>11:22:13 AM</td>\n",
       "      <td>60</td>\n",
       "      <td>10</td>\n",
       "      <td>0</td>\n",
       "      <td>0</td>\n",
       "      <td>0</td>\n",
       "    </tr>\n",
       "    <tr>\n",
       "      <th>1</th>\n",
       "      <td>0.00250</td>\n",
       "      <td>11:22:13 AM</td>\n",
       "      <td>64</td>\n",
       "      <td>11</td>\n",
       "      <td>0</td>\n",
       "      <td>0</td>\n",
       "      <td>0</td>\n",
       "    </tr>\n",
       "    <tr>\n",
       "      <th>2</th>\n",
       "      <td>0.00375</td>\n",
       "      <td>11:22:13 AM</td>\n",
       "      <td>67</td>\n",
       "      <td>5</td>\n",
       "      <td>0</td>\n",
       "      <td>0</td>\n",
       "      <td>0</td>\n",
       "    </tr>\n",
       "    <tr>\n",
       "      <th>3</th>\n",
       "      <td>0.00500</td>\n",
       "      <td>11:22:13 AM</td>\n",
       "      <td>66</td>\n",
       "      <td>9</td>\n",
       "      <td>0</td>\n",
       "      <td>0</td>\n",
       "      <td>0</td>\n",
       "    </tr>\n",
       "    <tr>\n",
       "      <th>4</th>\n",
       "      <td>0.00625</td>\n",
       "      <td>11:22:13 AM</td>\n",
       "      <td>59</td>\n",
       "      <td>16</td>\n",
       "      <td>0</td>\n",
       "      <td>0</td>\n",
       "      <td>0</td>\n",
       "    </tr>\n",
       "  </tbody>\n",
       "</table>\n",
       "</div>"
      ],
      "text/plain": [
       "   Entry number         Time  Ch 1  Ch 2  Ch 3  Ch 4  Ch 5\n",
       "0       0.00125  11:22:13 AM    60    10     0     0     0\n",
       "1       0.00250  11:22:13 AM    64    11     0     0     0\n",
       "2       0.00375  11:22:13 AM    67     5     0     0     0\n",
       "3       0.00500  11:22:13 AM    66     9     0     0     0\n",
       "4       0.00625  11:22:13 AM    59    16     0     0     0"
      ]
     },
     "execution_count": 30,
     "metadata": {},
     "output_type": "execute_result"
    }
   ],
   "source": [
    "filterless_df.head()"
   ]
  },
  {
   "cell_type": "code",
   "execution_count": 41,
   "metadata": {},
   "outputs": [
    {
     "data": {
      "image/png": "[encoded data removed]",
      "text/plain": [
       "<Figure size 432x288 with 1 Axes>"
      ]
     },
     "metadata": {
      "needs_background": "light"
     },
     "output_type": "display_data"
    }
   ],
   "source": [
    "plt.plot(filterless_df['Ch 1'][0:-1], label = \"No filter\")\n",
    "plt.plot(both_new_df['Ch 1'][0:len(filterless_df['Ch 1'])], label = \"Both new filters\")\n",
    "plt.plot(curr_filter_df['Ch 1'][0:len(filterless_df['Ch 1'])], label = \"Current filters\")\n",
    "plt.legend()\n",
    "plt.show()\n"
   ]
  },
  {
   "cell_type": "code",
   "execution_count": 45,
   "metadata": {},
   "outputs": [],
   "source": [
    "CC_naked = sum(filterless_df['Ch 4'][:len(filterless_df['Ch 1'])])\n",
    "CC_new_filter = sum(both_new_df['Ch 4'][:len(filterless_df['Ch 1'])])\n",
    "CC_curr_filter = sum(curr_filter_df['Ch 4'][:len(filterless_df['Ch 1'])])"
   ]
  },
  {
   "cell_type": "code",
   "execution_count": 48,
   "metadata": {},
   "outputs": [
    {
     "data": {
      "text/plain": [
       "<BarContainer object of 3 artists>"
      ]
     },
     "execution_count": 48,
     "metadata": {},
     "output_type": "execute_result"
    },
    {
     "data": {
      "image/png": "[encoded data removed]",
      "text/plain": [
       "<Figure size 432x288 with 1 Axes>"
      ]
     },
     "metadata": {
      "needs_background": "light"
     },
     "output_type": "display_data"
    }
   ],
   "source": [
    "CC_data = {\"Filterless\": CC_naked, \"New Filter\": CC_new_filter, \"Current Filters\": CC_curr_filter}\n",
    "labels = list(CC_data.keys())\n",
    "coincidences = list(CC_data.values())\n",
    "plt.bar(labels, coincidences)"
   ]
  },
  {
   "cell_type": "code",
   "execution_count": 73,
   "metadata": {},
   "outputs": [
    {
     "name": "stdout",
     "output_type": "stream",
     "text": [
      "0.225\n"
     ]
    }
   ],
   "source": [
    "print(CC_new_filter / CC_curr_filter)"
   ]
  },
  {
   "attachments": {},
   "cell_type": "markdown",
   "metadata": {},
   "source": [
    "## TORCH TESTS"
   ]
  },
  {
   "cell_type": "code",
   "execution_count": 60,
   "metadata": {},
   "outputs": [],
   "source": [
    "torch_no_filter = data_dir + \"torch_test\\\\naked\"\n",
    "torch_old_filter = data_dir + \"torch_test\\\\old_filters_both\"\n",
    "torch_new_filter = data_dir + \"torch_test\\\\new_filters_both\""
   ]
  },
  {
   "cell_type": "code",
   "execution_count": 61,
   "metadata": {},
   "outputs": [],
   "source": [
    "t_no_filt, _ = CD.clean_csv(torch_no_filter)\n",
    "t_old_filt, _ = CD.clean_csv(torch_old_filter)\n",
    "t_new_filt, _ = CD.clean_csv(torch_new_filter)"
   ]
  },
  {
   "cell_type": "code",
   "execution_count": 67,
   "metadata": {},
   "outputs": [
    {
     "data": {
      "image/png": "[encoded data removed]",
      "text/plain": [
       "<Figure size 432x288 with 1 Axes>"
      ]
     },
     "metadata": {
      "needs_background": "light"
     },
     "output_type": "display_data"
    }
   ],
   "source": [
    "# plt.plot(t_no_filt['Ch 1'][:len(t_old_filt['Ch 1'])], label = \"No filter\")\n",
    "plt.plot(t_old_filt['Ch 1'][:len(t_old_filt['Ch 1'])], label = \"Both old filters\")\n",
    "plt.plot(t_new_filt['Ch 1'][:len(t_old_filt['Ch 1'])], label = \"Both new filters\")\n",
    "plt.legend()\n",
    "plt.show()\n"
   ]
  },
  {
   "cell_type": "code",
   "execution_count": 68,
   "metadata": {},
   "outputs": [],
   "source": [
    "t_CC_naked = sum(t_no_filt['Ch 4'][:len(t_old_filt['Ch 1'])])\n",
    "t_CC_new_filter = sum(t_new_filt['Ch 4'][:len(t_old_filt['Ch 1'])])\n",
    "t_CC_curr_filter = sum(t_old_filt['Ch 4'][:len(t_old_filt['Ch 1'])])"
   ]
  },
  {
   "cell_type": "code",
   "execution_count": 72,
   "metadata": {},
   "outputs": [
    {
     "data": {
      "text/plain": [
       "<BarContainer object of 2 artists>"
      ]
     },
     "execution_count": 72,
     "metadata": {},
     "output_type": "execute_result"
    },
    {
     "data": {
      "image/png": "[encoded data removed]",
      "text/plain": [
       "<Figure size 432x288 with 1 Axes>"
      ]
     },
     "metadata": {
      "needs_background": "light"
     },
     "output_type": "display_data"
    }
   ],
   "source": [
    "t_CC_data = {\"New Filter\": t_CC_new_filter, \"Current Filters\": t_CC_curr_filter}\n",
    "t_labels = list(t_CC_data.keys())\n",
    "t_coincidences = list(t_CC_data.values())\n",
    "plt.bar(t_labels, t_coincidences)"
   ]
  },
  {
   "cell_type": "code",
   "execution_count": 74,
   "metadata": {},
   "outputs": [
    {
     "name": "stdout",
     "output_type": "stream",
     "text": [
      "0.7225274725274725\n"
     ]
    }
   ],
   "source": [
    "print(t_CC_new_filter / t_CC_curr_filter)"
   ]
  },
  {
   "cell_type": "code",
   "execution_count": null,
   "metadata": {},
   "outputs": [],
   "source": []
  }
 ],
 "metadata": {
  "kernelspec": {
   "display_name": "Python 3",
   "language": "python",
   "name": "python3"
  },
  "language_info": {
   "codemirror_mode": {
    "name": "ipython",
    "version": 3
   },
   "file_extension": ".py",
   "mimetype": "text/x-python",
   "name": "python",
   "nbconvert_exporter": "python",
   "pygments_lexer": "ipython3",
   "version": "3.7.9"
  },
  "orig_nbformat": 4
 },
 "nbformat": 4,
 "nbformat_minor": 2
}
