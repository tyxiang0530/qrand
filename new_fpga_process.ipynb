{
 "cells": [
  {
   "cell_type": "code",
   "execution_count": 7,
   "metadata": {},
   "outputs": [],
   "source": [
    "import numpy as np\n",
    "import pandas as pd\n",
    "import matplotlib.pyplot as plt\n",
    "import CleanData as cd"
   ]
  },
  {
   "cell_type": "code",
   "execution_count": 2,
   "metadata": {},
   "outputs": [],
   "source": [
    "data = \"data/NewFPGA/Torch/\""
   ]
  },
  {
   "cell_type": "code",
   "execution_count": 3,
   "metadata": {},
   "outputs": [],
   "source": [
    "file_1 = \"test1.txt\""
   ]
  },
  {
   "cell_type": "code",
   "execution_count": 4,
   "metadata": {},
   "outputs": [],
   "source": [
    "test1 = pd.read_csv(data + file_1, sep='\\t')"
   ]
  },
  {
   "cell_type": "code",
   "execution_count": 5,
   "metadata": {},
   "outputs": [
    {
     "data": {
      "text/html": [
       "<div>\n",
       "<style scoped>\n",
       "    .dataframe tbody tr th:only-of-type {\n",
       "        vertical-align: middle;\n",
       "    }\n",
       "\n",
       "    .dataframe tbody tr th {\n",
       "        vertical-align: top;\n",
       "    }\n",
       "\n",
       "    .dataframe thead th {\n",
       "        text-align: right;\n",
       "    }\n",
       "</style>\n",
       "<table border=\"1\" class=\"dataframe\">\n",
       "  <thead>\n",
       "    <tr style=\"text-align: right;\">\n",
       "      <th></th>\n",
       "      <th>3_26_A</th>\n",
       "      <th>3_26_B</th>\n",
       "      <th>3_26_AB</th>\n",
       "    </tr>\n",
       "  </thead>\n",
       "  <tbody>\n",
       "    <tr>\n",
       "      <th>0</th>\n",
       "      <td>27086.0</td>\n",
       "      <td>56499.0</td>\n",
       "      <td>9037.0</td>\n",
       "    </tr>\n",
       "    <tr>\n",
       "      <th>1</th>\n",
       "      <td>27145.0</td>\n",
       "      <td>57067.0</td>\n",
       "      <td>9090.0</td>\n",
       "    </tr>\n",
       "    <tr>\n",
       "      <th>2</th>\n",
       "      <td>27408.0</td>\n",
       "      <td>56008.0</td>\n",
       "      <td>9028.0</td>\n",
       "    </tr>\n",
       "    <tr>\n",
       "      <th>3</th>\n",
       "      <td>27957.0</td>\n",
       "      <td>52342.0</td>\n",
       "      <td>9114.0</td>\n",
       "    </tr>\n",
       "    <tr>\n",
       "      <th>4</th>\n",
       "      <td>26774.0</td>\n",
       "      <td>52341.0</td>\n",
       "      <td>8669.0</td>\n",
       "    </tr>\n",
       "  </tbody>\n",
       "</table>\n",
       "</div>"
      ],
      "text/plain": [
       "    3_26_A   3_26_B  3_26_AB\n",
       "0  27086.0  56499.0   9037.0\n",
       "1  27145.0  57067.0   9090.0\n",
       "2  27408.0  56008.0   9028.0\n",
       "3  27957.0  52342.0   9114.0\n",
       "4  26774.0  52341.0   8669.0"
      ]
     },
     "execution_count": 5,
     "metadata": {},
     "output_type": "execute_result"
    }
   ],
   "source": [
    "test1.head()"
   ]
  },
  {
   "cell_type": "code",
   "execution_count": 6,
   "metadata": {},
   "outputs": [],
   "source": [
    "def get_Racc(integration_time, channel_1, channel_2, tau):\n",
    "    tau_c = 2 * tau\n",
    "    total_1_counts = np.sum(channel_1)\n",
    "    total_2_counts = np.sum(channel_2)\n",
    "    total_time_1 = integration_time * channel_1.shape[0]\n",
    "    total_time_2 = integration_time * channel_2.shape[0]\n",
    "    R1 = total_1_counts / total_time_1\n",
    "    R2 = total_2_counts / total_time_2\n",
    "\n",
    "    return tau_c * R1 * R2\n",
    "def get_alpha(integration_time, channel_1, channel_2, CC, tau):\n",
    "    Racc = get_Racc(integration_time, channel_1, channel_2, tau)\n",
    "    total_CC = np.sum(CC)\n",
    "    total_time_cc = integration_time * CC.shape[0]\n",
    "    Rc = total_CC / total_time_cc\n",
    "    return Rc / Racc\n",
    "\n",
    "\n",
    "def file_to_alpha(file_in, pulsewidth):\n",
    "    pulse_widths = {\"short\": 1e-8, \"medium\": 1.4e-8, \"long\": 1.8e-8, \"instrument\": 2.5e-8}\n",
    "    df, settings = CD.clean_csv(file_in)\n",
    "    integration_time = settings['sample integration time (s)']\n",
    "\n",
    "    alpha = get_alpha(integration_time, df['Ch 1'], df['Ch 2'], df['Ch 4'], pulse_widths[pulsewidth])\n",
    "    return alpha\n",
    "    "
   ]
  },
  {
   "cell_type": "code",
   "execution_count": 10,
   "metadata": {},
   "outputs": [
    {
     "data": {
      "text/plain": [
       "3.61039400165688"
      ]
     },
     "execution_count": 10,
     "metadata": {},
     "output_type": "execute_result"
    }
   ],
   "source": [
    "get_alpha(0.1, test1['3_26_A'], test1['3_26_B'], test1['3_26_AB'], 8.25e-8)"
   ]
  },
  {
   "cell_type": "code",
   "execution_count": null,
   "metadata": {},
   "outputs": [],
   "source": []
  }
 ],
 "metadata": {
  "kernelspec": {
   "display_name": "venv",
   "language": "python",
   "name": "python3"
  },
  "language_info": {
   "codemirror_mode": {
    "name": "ipython",
    "version": 3
   },
   "file_extension": ".py",
   "mimetype": "text/x-python",
   "name": "python",
   "nbconvert_exporter": "python",
   "pygments_lexer": "ipython3",
   "version": "3.9.13"
  },
  "orig_nbformat": 4
 },
 "nbformat": 4,
 "nbformat_minor": 2
}
