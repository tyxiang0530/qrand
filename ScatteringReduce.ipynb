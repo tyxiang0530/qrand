{
 "cells": [
  {
   "cell_type": "code",
   "execution_count": 18,
   "metadata": {},
   "outputs": [],
   "source": [
    "import numpy as np\n",
    "import pandas as pd\n",
    "import matplotlib.pyplot as plt\n",
    "import DataExplore as de\n",
    "import CleanData as cd\n",
    "from scipy.stats import poisson"
   ]
  },
  {
   "cell_type": "code",
   "execution_count": 7,
   "metadata": {},
   "outputs": [],
   "source": [
    "data_path = \"data\\\\1115_fixed\\\\\""
   ]
  },
  {
   "cell_type": "code",
   "execution_count": 43,
   "metadata": {},
   "outputs": [],
   "source": [
    "enclosure_df, enclosure_settings = cd.clean_csv(\"C:\\\\Users\\\\tyxia\\\\OneDrive - Pomona College\\\\Pomona\\\\randomness_proj\\\\qrand\\\\data\\\\1115_fixed\\\\enclose\\\\encloserun1.csv\")\n",
    "enclosure_df = enclosure_df.head(30000)"
   ]
  },
  {
   "cell_type": "code",
   "execution_count": 15,
   "metadata": {},
   "outputs": [
    {
     "data": {
      "text/html": [
       "<div>\n",
       "<style scoped>\n",
       "    .dataframe tbody tr th:only-of-type {\n",
       "        vertical-align: middle;\n",
       "    }\n",
       "\n",
       "    .dataframe tbody tr th {\n",
       "        vertical-align: top;\n",
       "    }\n",
       "\n",
       "    .dataframe thead th {\n",
       "        text-align: right;\n",
       "    }\n",
       "</style>\n",
       "<table border=\"1\" class=\"dataframe\">\n",
       "  <thead>\n",
       "    <tr style=\"text-align: right;\">\n",
       "      <th></th>\n",
       "      <th>Entry number</th>\n",
       "      <th>Time</th>\n",
       "      <th>Ch 1</th>\n",
       "      <th>Ch 2</th>\n",
       "      <th>Ch 3</th>\n",
       "    </tr>\n",
       "  </thead>\n",
       "  <tbody>\n",
       "    <tr>\n",
       "      <th>0</th>\n",
       "      <td>0.00125</td>\n",
       "      <td>4:25:47 PM</td>\n",
       "      <td>2</td>\n",
       "      <td>4</td>\n",
       "      <td>1</td>\n",
       "    </tr>\n",
       "    <tr>\n",
       "      <th>1</th>\n",
       "      <td>0.00250</td>\n",
       "      <td>4:25:47 PM</td>\n",
       "      <td>4</td>\n",
       "      <td>12</td>\n",
       "      <td>0</td>\n",
       "    </tr>\n",
       "    <tr>\n",
       "      <th>2</th>\n",
       "      <td>0.00375</td>\n",
       "      <td>4:25:47 PM</td>\n",
       "      <td>7</td>\n",
       "      <td>17</td>\n",
       "      <td>1</td>\n",
       "    </tr>\n",
       "    <tr>\n",
       "      <th>3</th>\n",
       "      <td>0.00500</td>\n",
       "      <td>4:25:47 PM</td>\n",
       "      <td>4</td>\n",
       "      <td>10</td>\n",
       "      <td>1</td>\n",
       "    </tr>\n",
       "    <tr>\n",
       "      <th>4</th>\n",
       "      <td>0.00625</td>\n",
       "      <td>4:25:47 PM</td>\n",
       "      <td>5</td>\n",
       "      <td>12</td>\n",
       "      <td>1</td>\n",
       "    </tr>\n",
       "  </tbody>\n",
       "</table>\n",
       "</div>"
      ],
      "text/plain": [
       "   Entry number        Time  Ch 1  Ch 2  Ch 3\n",
       "0       0.00125  4:25:47 PM     2     4     1\n",
       "1       0.00250  4:25:47 PM     4    12     0\n",
       "2       0.00375  4:25:47 PM     7    17     1\n",
       "3       0.00500  4:25:47 PM     4    10     1\n",
       "4       0.00625  4:25:47 PM     5    12     1"
      ]
     },
     "execution_count": 15,
     "metadata": {},
     "output_type": "execute_result"
    }
   ],
   "source": [
    "enclosure_df.head()"
   ]
  },
  {
   "cell_type": "code",
   "execution_count": 44,
   "metadata": {},
   "outputs": [],
   "source": [
    "noenclosure_df, noenclosure_settings = cd.clean_csv(\"C:\\\\Users\\\\tyxia\\\\OneDrive - Pomona College\\\\Pomona\\\\randomness_proj\\\\qrand\\\\data\\\\1115_fixed\\\\noenclose\\\\run1.csv\")\n",
    "noenclosure_df = noenclosure_df.head(30000)"
   ]
  },
  {
   "cell_type": "code",
   "execution_count": 45,
   "metadata": {},
   "outputs": [
    {
     "data": {
      "text/html": [
       "<div>\n",
       "<style scoped>\n",
       "    .dataframe tbody tr th:only-of-type {\n",
       "        vertical-align: middle;\n",
       "    }\n",
       "\n",
       "    .dataframe tbody tr th {\n",
       "        vertical-align: top;\n",
       "    }\n",
       "\n",
       "    .dataframe thead th {\n",
       "        text-align: right;\n",
       "    }\n",
       "</style>\n",
       "<table border=\"1\" class=\"dataframe\">\n",
       "  <thead>\n",
       "    <tr style=\"text-align: right;\">\n",
       "      <th></th>\n",
       "      <th>Entry number</th>\n",
       "      <th>Time</th>\n",
       "      <th>Ch 1</th>\n",
       "      <th>Ch 2</th>\n",
       "      <th>Ch 3</th>\n",
       "    </tr>\n",
       "  </thead>\n",
       "  <tbody>\n",
       "    <tr>\n",
       "      <th>0</th>\n",
       "      <td>0.00125</td>\n",
       "      <td>4:14:43 PM</td>\n",
       "      <td>8</td>\n",
       "      <td>17</td>\n",
       "      <td>0</td>\n",
       "    </tr>\n",
       "    <tr>\n",
       "      <th>1</th>\n",
       "      <td>0.00250</td>\n",
       "      <td>4:14:43 PM</td>\n",
       "      <td>12</td>\n",
       "      <td>14</td>\n",
       "      <td>1</td>\n",
       "    </tr>\n",
       "    <tr>\n",
       "      <th>2</th>\n",
       "      <td>0.00375</td>\n",
       "      <td>4:14:43 PM</td>\n",
       "      <td>5</td>\n",
       "      <td>13</td>\n",
       "      <td>0</td>\n",
       "    </tr>\n",
       "    <tr>\n",
       "      <th>3</th>\n",
       "      <td>0.00500</td>\n",
       "      <td>4:14:43 PM</td>\n",
       "      <td>14</td>\n",
       "      <td>12</td>\n",
       "      <td>0</td>\n",
       "    </tr>\n",
       "    <tr>\n",
       "      <th>4</th>\n",
       "      <td>0.00625</td>\n",
       "      <td>4:14:43 PM</td>\n",
       "      <td>7</td>\n",
       "      <td>13</td>\n",
       "      <td>0</td>\n",
       "    </tr>\n",
       "  </tbody>\n",
       "</table>\n",
       "</div>"
      ],
      "text/plain": [
       "   Entry number        Time  Ch 1  Ch 2  Ch 3\n",
       "0       0.00125  4:14:43 PM     8    17     0\n",
       "1       0.00250  4:14:43 PM    12    14     1\n",
       "2       0.00375  4:14:43 PM     5    13     0\n",
       "3       0.00500  4:14:43 PM    14    12     0\n",
       "4       0.00625  4:14:43 PM     7    13     0"
      ]
     },
     "execution_count": 45,
     "metadata": {},
     "output_type": "execute_result"
    }
   ],
   "source": [
    "noenclosure_df.head()"
   ]
  },
  {
   "cell_type": "code",
   "execution_count": 46,
   "metadata": {},
   "outputs": [
    {
     "data": {
      "text/plain": [
       "<matplotlib.legend.Legend at 0x29fb1aaeaf0>"
      ]
     },
     "execution_count": 46,
     "metadata": {},
     "output_type": "execute_result"
    },
    {
     "data": {
      "image/png": "[encoded data removed]",
      "text/plain": [
       "<Figure size 432x288 with 1 Axes>"
      ]
     },
     "metadata": {
      "needs_background": "light"
     },
     "output_type": "display_data"
    }
   ],
   "source": [
    "no_en_ch1 = noenclosure_df['Ch 1']\n",
    "mu_noen1 = no_en_ch1.mean()\n",
    "x = np.arange(0, 40, 0.1)\n",
    "poisson_pmf_noen1 = poisson.pmf(x, mu_noen1)\n",
    "\n",
    "en_ch1 = enclosure_df['Ch 1']\n",
    "mu_en1 = en_ch1.mean()\n",
    "poisson_pmf_en1 = poisson.pmf(x, mu_en1)\n",
    "\n",
    "plt.plot(x, poisson_pmf_noen1, ms=8, label='no scattering reduction hardware')\n",
    "plt.plot(x, poisson_pmf_en1, ms=8, label='with scattering reduction hardware')\n",
    "\n",
    "plt.legend()"
   ]
  },
  {
   "cell_type": "code",
   "execution_count": 47,
   "metadata": {},
   "outputs": [
    {
     "data": {
      "text/plain": [
       "<matplotlib.legend.Legend at 0x29fb1a99820>"
      ]
     },
     "execution_count": 47,
     "metadata": {},
     "output_type": "execute_result"
    },
    {
     "data": {
      "image/png": "[encoded data removed]",
      "text/plain": [
       "<Figure size 432x288 with 1 Axes>"
      ]
     },
     "metadata": {
      "needs_background": "light"
     },
     "output_type": "display_data"
    }
   ],
   "source": [
    "no_en_ch1 = noenclosure_df['Ch 2']\n",
    "mu_noen1 = no_en_ch1.mean()\n",
    "x = np.arange(0, 40, 0.1)\n",
    "poisson_pmf_noen1 = poisson.pmf(x, mu_noen1)\n",
    "\n",
    "en_ch1 = enclosure_df['Ch 2']\n",
    "mu_en1 = en_ch1.mean()\n",
    "poisson_pmf_en1 = poisson.pmf(x, mu_en1)\n",
    "\n",
    "plt.plot(x, poisson_pmf_noen1, ms=8, label='no scattering reduction hardware')\n",
    "plt.plot(x, poisson_pmf_en1, ms=8, label='with scattering reduction hardware')\n",
    "\n",
    "plt.legend()"
   ]
  },
  {
   "cell_type": "code",
   "execution_count": 50,
   "metadata": {},
   "outputs": [
    {
     "data": {
      "text/plain": [
       "<matplotlib.legend.Legend at 0x29fb2c59370>"
      ]
     },
     "execution_count": 50,
     "metadata": {},
     "output_type": "execute_result"
    },
    {
     "data": {
      "image/png": "[encoded data removed]",
      "text/plain": [
       "<Figure size 432x288 with 1 Axes>"
      ]
     },
     "metadata": {
      "needs_background": "light"
     },
     "output_type": "display_data"
    }
   ],
   "source": [
    "no_en_ch1 = noenclosure_df['Ch 3']\n",
    "mu_noen1 = no_en_ch1.mean()\n",
    "x = np.arange(0, 10, 0.01)\n",
    "poisson_pmf_noen1 = poisson.pmf(x, mu_noen1)\n",
    "\n",
    "en_ch1 = enclosure_df['Ch 3']\n",
    "mu_en1 = en_ch1.mean()\n",
    "poisson_pmf_en1 = poisson.pmf(x, mu_en1)\n",
    "\n",
    "plt.plot(x, poisson_pmf_noen1, ms=8, label='no scattering reduction hardware')\n",
    "plt.plot(x, poisson_pmf_en1, ms=8, label='with scattering reduction hardware')\n",
    "\n",
    "plt.legend()"
   ]
  },
  {
   "cell_type": "code",
   "execution_count": null,
   "metadata": {},
   "outputs": [],
   "source": []
  }
 ],
 "metadata": {
  "kernelspec": {
   "display_name": "Python 3.8.10 64-bit",
   "language": "python",
   "name": "python3"
  },
  "language_info": {
   "codemirror_mode": {
    "name": "ipython",
    "version": 3
   },
   "file_extension": ".py",
   "mimetype": "text/x-python",
   "name": "python",
   "nbconvert_exporter": "python",
   "pygments_lexer": "ipython3",
   "version": "3.8.10"
  },
  "orig_nbformat": 4,
  "vscode": {
   "interpreter": {
    "hash": "8c9d00ddaa79aa68c3a541f4a79b3085c4c0d74dc6caab7ebd7301921f5b4803"
   }
  }
 },
 "nbformat": 4,
 "nbformat_minor": 2
}
